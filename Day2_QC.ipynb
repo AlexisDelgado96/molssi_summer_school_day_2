{
 "cells": [
  {
   "cell_type": "markdown",
   "metadata": {},
   "source": [
    "## QC Archive Demo"
   ]
  },
  {
   "cell_type": "code",
   "execution_count": 1,
   "metadata": {},
   "outputs": [],
   "source": [
    "import qcportal as ptl\n",
    "\n",
    "client = ptl.FractalClient()\n"
   ]
  },
  {
   "cell_type": "code",
   "execution_count": 2,
   "metadata": {},
   "outputs": [
    {
     "data": {
      "text/html": [
       "\n",
       "<h3>FractalClient</h3>\n",
       "<ul>\n",
       "  <li><b>Server:   &nbsp; </b>The MolSSI QCArchive Server</li>\n",
       "  <li><b>Address:  &nbsp; </b>https://api.qcarchive.molssi.org:443/</li>\n",
       "  <li><b>Username: &nbsp; </b>None</li>\n",
       "</ul>\n"
      ],
      "text/plain": [
       "FractalClient(server_name='The MolSSI QCArchive Server', address='https://api.qcarchive.molssi.org:443/', username='None')"
      ]
     },
     "execution_count": 2,
     "metadata": {},
     "output_type": "execute_result"
    }
   ],
   "source": [
    "client\n",
    "\n",
    "#connected to qc portal and to database molssi is using to pull down molecules to look at client is the data base"
   ]
  },
  {
   "cell_type": "code",
   "execution_count": 31,
   "metadata": {},
   "outputs": [],
   "source": [
    "butane = client.query_molecules(id=['61139', '70659'])\n",
    "\n",
    "#command query molecules the ID numbers for the butane are 61139 and 70569 (2 different molecules)"
   ]
  },
  {
   "cell_type": "code",
   "execution_count": 32,
   "metadata": {},
   "outputs": [
    {
     "data": {
      "text/plain": [
       "[<Molecule(name='C4H10' formula='C4H10' hash='3bbc6db')>,\n",
       " <Molecule(name='C4H10' formula='C4H10' hash='bb665a3')>]"
      ]
     },
     "execution_count": 32,
     "metadata": {},
     "output_type": "execute_result"
    }
   ],
   "source": [
    "butane"
   ]
  },
  {
   "cell_type": "code",
   "execution_count": 34,
   "metadata": {},
   "outputs": [
    {
     "data": {
      "application/3dmoljs_load.v0": "<div id=\"3dmolviewer_1563892609330049\"  style=\"position: relative; width: 400px; height: 400px\">\n        <p id=\"3dmolwarning_1563892609330049\" style=\"background-color:#ffcccc;color:black\">You appear to be running in JupyterLab (or JavaScript failed to load for some other reason).  You need to install the 3dmol extension: <br>\n        <tt>jupyter labextension install jupyterlab_3dmol</tt></p>\n        </div>\n<script>\n\nvar loadScriptAsync = function(uri){\n  return new Promise((resolve, reject) => {\n    var tag = document.createElement('script');\n    tag.src = uri;\n    tag.async = true;\n    tag.onload = () => {\n      resolve();\n    };\n  var firstScriptTag = document.getElementsByTagName('script')[0];\n  firstScriptTag.parentNode.insertBefore(tag, firstScriptTag);\n});\n};\n\nif(typeof $3Dmolpromise === 'undefined') {\n$3Dmolpromise = null;\n  $3Dmolpromise = loadScriptAsync('https://3dmol.csb.pitt.edu/build/3Dmol.js');\n}\n\nvar viewer_1563892609330049 = null;\nvar warn = document.getElementById(\"3dmolwarning_1563892609330049\");\nif(warn) {\n    warn.parentNode.removeChild(warn);\n}\n$3Dmolpromise.then(function() {\nviewer_1563892609330049 = $3Dmol.createViewer($(\"#3dmolviewer_1563892609330049\"),{backgroundColor:\"white\"});\n\tviewer_1563892609330049.addModel(\"14\\nC4H10\\nC                    -0.367198611826    -1.239066459661    -0.895096896430\\nC                    -0.805813620019     1.122919020599     0.749193187800\\nC                     0.884999946537    -0.552975918533    -0.342565957722\\nC                     0.651313993821     0.705495331858     0.533442172609\\nH                    -1.015245486716    -1.597844274534    -0.068455110112\\nH                    -0.934555683074    -0.548936751218    -1.553770205346\\nH                    -0.065145201911    -2.119653004760    -1.500550906186\\nH                    -1.371403922022     0.320442026938     1.267036676767\\nH                    -1.290856239503     1.369335458265    -0.218296082402\\nH                    -0.835804383885     2.030484305799     1.388465658940\\nH                     1.531851627070    -0.275261564622    -1.203346997941\\nH                     1.452835145270    -1.302370505887     0.251115044454\\nH                     1.190135739619     1.564630144108     0.077322987724\\nH                     1.111261775825     0.537535321291     1.531802741680\\n\",\"xyz\");\n\tviewer_1563892609330049.setStyle({\"stick\": {\"radius\": 0.2}, \"sphere\": {\"scale\": 0.3}});\n\tviewer_1563892609330049.zoomTo();\nviewer_1563892609330049.render();\n});\n</script>",
      "text/html": [
       "<div id=\"3dmolviewer_1563892609330049\"  style=\"position: relative; width: 400px; height: 400px\">\n",
       "        <p id=\"3dmolwarning_1563892609330049\" style=\"background-color:#ffcccc;color:black\">You appear to be running in JupyterLab (or JavaScript failed to load for some other reason).  You need to install the 3dmol extension: <br>\n",
       "        <tt>jupyter labextension install jupyterlab_3dmol</tt></p>\n",
       "        </div>\n",
       "<script>\n",
       "\n",
       "var loadScriptAsync = function(uri){\n",
       "  return new Promise((resolve, reject) => {\n",
       "    var tag = document.createElement('script');\n",
       "    tag.src = uri;\n",
       "    tag.async = true;\n",
       "    tag.onload = () => {\n",
       "      resolve();\n",
       "    };\n",
       "  var firstScriptTag = document.getElementsByTagName('script')[0];\n",
       "  firstScriptTag.parentNode.insertBefore(tag, firstScriptTag);\n",
       "});\n",
       "};\n",
       "\n",
       "if(typeof $3Dmolpromise === 'undefined') {\n",
       "$3Dmolpromise = null;\n",
       "  $3Dmolpromise = loadScriptAsync('https://3dmol.csb.pitt.edu/build/3Dmol.js');\n",
       "}\n",
       "\n",
       "var viewer_1563892609330049 = null;\n",
       "var warn = document.getElementById(\"3dmolwarning_1563892609330049\");\n",
       "if(warn) {\n",
       "    warn.parentNode.removeChild(warn);\n",
       "}\n",
       "$3Dmolpromise.then(function() {\n",
       "viewer_1563892609330049 = $3Dmol.createViewer($(\"#3dmolviewer_1563892609330049\"),{backgroundColor:\"white\"});\n",
       "\tviewer_1563892609330049.addModel(\"14\\nC4H10\\nC                    -0.367198611826    -1.239066459661    -0.895096896430\\nC                    -0.805813620019     1.122919020599     0.749193187800\\nC                     0.884999946537    -0.552975918533    -0.342565957722\\nC                     0.651313993821     0.705495331858     0.533442172609\\nH                    -1.015245486716    -1.597844274534    -0.068455110112\\nH                    -0.934555683074    -0.548936751218    -1.553770205346\\nH                    -0.065145201911    -2.119653004760    -1.500550906186\\nH                    -1.371403922022     0.320442026938     1.267036676767\\nH                    -1.290856239503     1.369335458265    -0.218296082402\\nH                    -0.835804383885     2.030484305799     1.388465658940\\nH                     1.531851627070    -0.275261564622    -1.203346997941\\nH                     1.452835145270    -1.302370505887     0.251115044454\\nH                     1.190135739619     1.564630144108     0.077322987724\\nH                     1.111261775825     0.537535321291     1.531802741680\\n\",\"xyz\");\n",
       "\tviewer_1563892609330049.setStyle({\"stick\": {\"radius\": 0.2}, \"sphere\": {\"scale\": 0.3}});\n",
       "\tviewer_1563892609330049.zoomTo();\n",
       "viewer_1563892609330049.render();\n",
       "});\n",
       "</script>"
      ]
     },
     "metadata": {},
     "output_type": "display_data"
    },
    {
     "data": {
      "text/plain": [
       "<py3Dmol.view at 0x11e764c50>"
      ]
     },
     "execution_count": 34,
     "metadata": {},
     "output_type": "execute_result"
    }
   ],
   "source": [
    "butane[1].show()\n"
   ]
  },
  {
   "cell_type": "code",
   "execution_count": 41,
   "metadata": {},
   "outputs": [
    {
     "data": {
      "application/3dmoljs_load.v0": "<div id=\"3dmolviewer_1563892692537204\"  style=\"position: relative; width: 400px; height: 400px\">\n        <p id=\"3dmolwarning_1563892692537204\" style=\"background-color:#ffcccc;color:black\">You appear to be running in JupyterLab (or JavaScript failed to load for some other reason).  You need to install the 3dmol extension: <br>\n        <tt>jupyter labextension install jupyterlab_3dmol</tt></p>\n        </div>\n<script>\n\nvar loadScriptAsync = function(uri){\n  return new Promise((resolve, reject) => {\n    var tag = document.createElement('script');\n    tag.src = uri;\n    tag.async = true;\n    tag.onload = () => {\n      resolve();\n    };\n  var firstScriptTag = document.getElementsByTagName('script')[0];\n  firstScriptTag.parentNode.insertBefore(tag, firstScriptTag);\n});\n};\n\nif(typeof $3Dmolpromise === 'undefined') {\n$3Dmolpromise = null;\n  $3Dmolpromise = loadScriptAsync('https://3dmol.csb.pitt.edu/build/3Dmol.js');\n}\n\nvar viewer_1563892692537204 = null;\nvar warn = document.getElementById(\"3dmolwarning_1563892692537204\");\nif(warn) {\n    warn.parentNode.removeChild(warn);\n}\n$3Dmolpromise.then(function() {\nviewer_1563892692537204 = $3Dmol.createViewer($(\"#3dmolviewer_1563892692537204\"),{backgroundColor:\"white\"});\n\tviewer_1563892692537204.addModel(\"14\\nC4H10\\nC                     0.319142817510    -1.093637470615    -1.564414747816\\nC                    -0.290915848913     1.096758367299     1.567781812448\\nC                     0.092836854842    -0.751249438146    -0.100522397103\\nC                    -0.092794060281     0.751359940931     0.100493429943\\nH                    -0.519879641163    -0.755167725511    -2.180879601800\\nH                     1.228258374974    -0.606784705229    -1.931321629538\\nH                     0.433231534967    -2.173772344395    -1.701604611738\\nH                     0.566770197846     0.756780387768     2.156554230319\\nH                    -1.189142468703     0.614634340052     1.966519364863\\nH                    -0.390704303684     2.178094155841     1.706284173437\\nH                     0.948659303509    -1.102785828023     0.487454535126\\nH                    -0.791724567833    -1.287994152809     0.261736276668\\nH                    -0.960730259026     1.099387769483    -0.471363219252\\nH                     0.783367161017     1.289109832998    -0.280421285847\\n\",\"xyz\");\n\tviewer_1563892692537204.setStyle({\"stick\": {\"radius\": 0.2}, \"sphere\": {\"scale\": 0.3}});\n\tviewer_1563892692537204.zoomTo();\nviewer_1563892692537204.render();\n});\n</script>",
      "text/html": [
       "<div id=\"3dmolviewer_1563892692537204\"  style=\"position: relative; width: 400px; height: 400px\">\n",
       "        <p id=\"3dmolwarning_1563892692537204\" style=\"background-color:#ffcccc;color:black\">You appear to be running in JupyterLab (or JavaScript failed to load for some other reason).  You need to install the 3dmol extension: <br>\n",
       "        <tt>jupyter labextension install jupyterlab_3dmol</tt></p>\n",
       "        </div>\n",
       "<script>\n",
       "\n",
       "var loadScriptAsync = function(uri){\n",
       "  return new Promise((resolve, reject) => {\n",
       "    var tag = document.createElement('script');\n",
       "    tag.src = uri;\n",
       "    tag.async = true;\n",
       "    tag.onload = () => {\n",
       "      resolve();\n",
       "    };\n",
       "  var firstScriptTag = document.getElementsByTagName('script')[0];\n",
       "  firstScriptTag.parentNode.insertBefore(tag, firstScriptTag);\n",
       "});\n",
       "};\n",
       "\n",
       "if(typeof $3Dmolpromise === 'undefined') {\n",
       "$3Dmolpromise = null;\n",
       "  $3Dmolpromise = loadScriptAsync('https://3dmol.csb.pitt.edu/build/3Dmol.js');\n",
       "}\n",
       "\n",
       "var viewer_1563892692537204 = null;\n",
       "var warn = document.getElementById(\"3dmolwarning_1563892692537204\");\n",
       "if(warn) {\n",
       "    warn.parentNode.removeChild(warn);\n",
       "}\n",
       "$3Dmolpromise.then(function() {\n",
       "viewer_1563892692537204 = $3Dmol.createViewer($(\"#3dmolviewer_1563892692537204\"),{backgroundColor:\"white\"});\n",
       "\tviewer_1563892692537204.addModel(\"14\\nC4H10\\nC                     0.319142817510    -1.093637470615    -1.564414747816\\nC                    -0.290915848913     1.096758367299     1.567781812448\\nC                     0.092836854842    -0.751249438146    -0.100522397103\\nC                    -0.092794060281     0.751359940931     0.100493429943\\nH                    -0.519879641163    -0.755167725511    -2.180879601800\\nH                     1.228258374974    -0.606784705229    -1.931321629538\\nH                     0.433231534967    -2.173772344395    -1.701604611738\\nH                     0.566770197846     0.756780387768     2.156554230319\\nH                    -1.189142468703     0.614634340052     1.966519364863\\nH                    -0.390704303684     2.178094155841     1.706284173437\\nH                     0.948659303509    -1.102785828023     0.487454535126\\nH                    -0.791724567833    -1.287994152809     0.261736276668\\nH                    -0.960730259026     1.099387769483    -0.471363219252\\nH                     0.783367161017     1.289109832998    -0.280421285847\\n\",\"xyz\");\n",
       "\tviewer_1563892692537204.setStyle({\"stick\": {\"radius\": 0.2}, \"sphere\": {\"scale\": 0.3}});\n",
       "\tviewer_1563892692537204.zoomTo();\n",
       "viewer_1563892692537204.render();\n",
       "});\n",
       "</script>"
      ]
     },
     "metadata": {},
     "output_type": "display_data"
    },
    {
     "data": {
      "text/plain": [
       "<py3Dmol.view at 0x11e764e48>"
      ]
     },
     "execution_count": 41,
     "metadata": {},
     "output_type": "execute_result"
    }
   ],
   "source": [
    "butane[0].show()"
   ]
  },
  {
   "cell_type": "code",
   "execution_count": null,
   "metadata": {},
   "outputs": [],
   "source": []
  },
  {
   "cell_type": "code",
   "execution_count": 6,
   "metadata": {},
   "outputs": [
    {
     "data": {
      "text/plain": [
       "[6, 6, 6, 6, 1, 1, 1, 1, 1, 1, 1, 1, 1, 1]"
      ]
     },
     "execution_count": 6,
     "metadata": {},
     "output_type": "execute_result"
    }
   ],
   "source": [
    "butane[0].atomic_numbers"
   ]
  },
  {
   "cell_type": "code",
   "execution_count": 7,
   "metadata": {},
   "outputs": [
    {
     "data": {
      "text/plain": [
       "array([[ 0.60309252, -2.0666753 , -2.95631542],\n",
       "       [-0.54975128,  2.07257294,  2.96267825],\n",
       "       [ 0.17543623, -1.41965569, -0.1899598 ],\n",
       "       [-0.17535536,  1.41986451,  0.18990506],\n",
       "       [-0.98243014, -1.42706018, -4.12126516],\n",
       "       [ 2.32107194, -1.14665691, -3.64966894],\n",
       "       [ 0.81868895, -4.10783439, -3.21556669],\n",
       "       [ 1.07104045,  1.43010767,  4.07529687],\n",
       "       [-2.24715359,  1.16149057,  3.71618302],\n",
       "       [-0.73832413,  4.11600143,  3.22440978],\n",
       "       [ 1.79270627, -2.08396319,  0.92115557],\n",
       "       [-1.4961426 , -2.4339562 ,  0.49460988],\n",
       "       [-1.81551707,  2.07754179, -0.89074739],\n",
       "       [ 1.48034939,  2.43606453, -0.52991943]])"
      ]
     },
     "execution_count": 7,
     "metadata": {},
     "output_type": "execute_result"
    }
   ],
   "source": [
    "butane[0].geometry"
   ]
  },
  {
   "cell_type": "code",
   "execution_count": 8,
   "metadata": {},
   "outputs": [],
   "source": [
    "#numpy array each line is a different atom in the molecule"
   ]
  },
  {
   "cell_type": "code",
   "execution_count": 9,
   "metadata": {},
   "outputs": [
    {
     "data": {
      "text/plain": [
       "['C', 'C', 'C', 'C', 'H', 'H', 'H', 'H', 'H', 'H', 'H', 'H', 'H', 'H']"
      ]
     },
     "execution_count": 9,
     "metadata": {},
     "output_type": "execute_result"
    }
   ],
   "source": [
    "butane[0].symbols\n",
    "#we are showing this is the molecule and these are symbols affiliated with it\n",
    "#the symbols describe the elements\n",
    "#give me 1st element of butane list"
   ]
  },
  {
   "cell_type": "code",
   "execution_count": 44,
   "metadata": {},
   "outputs": [
    {
     "data": {
      "text/plain": [
       "array([[ 0.60309252, -2.0666753 , -2.95631542],\n",
       "       [-0.54975128,  2.07257294,  2.96267825],\n",
       "       [ 0.17543623, -1.41965569, -0.1899598 ],\n",
       "       [-0.17535536,  1.41986451,  0.18990506],\n",
       "       [-0.98243014, -1.42706018, -4.12126516],\n",
       "       [ 2.32107194, -1.14665691, -3.64966894],\n",
       "       [ 0.81868895, -4.10783439, -3.21556669],\n",
       "       [ 1.07104045,  1.43010767,  4.07529687],\n",
       "       [-2.24715359,  1.16149057,  3.71618302],\n",
       "       [-0.73832413,  4.11600143,  3.22440978],\n",
       "       [ 1.79270627, -2.08396319,  0.92115557],\n",
       "       [-1.4961426 , -2.4339562 ,  0.49460988],\n",
       "       [-1.81551707,  2.07754179, -0.89074739],\n",
       "       [ 1.48034939,  2.43606453, -0.52991943]])"
      ]
     },
     "execution_count": 44,
     "metadata": {},
     "output_type": "execute_result"
    }
   ],
   "source": [
    "butane[0].geometry\n",
    "#element 0 is the first butane molecule listed\n",
    "#each column is a coordinate (x, y, z), each row is a different element (atom)"
   ]
  },
  {
   "cell_type": "code",
   "execution_count": 43,
   "metadata": {},
   "outputs": [
    {
     "name": "stdout",
     "output_type": "stream",
     "text": [
      "14\n",
      "14\n"
     ]
    }
   ],
   "source": [
    "print(len(butane[0].geometry))\n",
    "print(len(butane[0].symbols))\n"
   ]
  },
  {
   "cell_type": "code",
   "execution_count": 10,
   "metadata": {},
   "outputs": [],
   "source": [
    "butane_geometries = [butane[0].geometry.copy(), butane[1].geometry.copy()]\n",
    "\n",
    "#make this list called butane geometries and geometry is a numpy array so we copy it and do the\n",
    "#same for the second molecule"
   ]
  },
  {
   "cell_type": "code",
   "execution_count": 47,
   "metadata": {},
   "outputs": [
    {
     "name": "stdout",
     "output_type": "stream",
     "text": [
      "[array([[ 0.60309252, -2.0666753 , -2.95631542],\n",
      "       [-0.54975128,  2.07257294,  2.96267825],\n",
      "       [ 0.17543623, -1.41965569, -0.1899598 ],\n",
      "       [-0.17535536,  1.41986451,  0.18990506],\n",
      "       [-0.98243014, -1.42706018, -4.12126516],\n",
      "       [ 2.32107194, -1.14665691, -3.64966894],\n",
      "       [ 0.81868895, -4.10783439, -3.21556669],\n",
      "       [ 1.07104045,  1.43010767,  4.07529687],\n",
      "       [-2.24715359,  1.16149057,  3.71618302],\n",
      "       [-0.73832413,  4.11600143,  3.22440978],\n",
      "       [ 1.79270627, -2.08396319,  0.92115557],\n",
      "       [-1.4961426 , -2.4339562 ,  0.49460988],\n",
      "       [-1.81551707,  2.07754179, -0.89074739],\n",
      "       [ 1.48034939,  2.43606453, -0.52991943]]), array([[-0.69390481, -2.34149626, -1.69148799],\n",
      "       [-1.52276705,  2.12200941,  1.41576994],\n",
      "       [ 1.67240752, -1.04497304, -0.64735584],\n",
      "       [ 1.23080507,  1.33319296,  1.00805961],\n",
      "       [-1.91853592, -3.01948807, -0.12936141],\n",
      "       [-1.76605429, -1.03734012, -2.93620015],\n",
      "       [-0.12310659, -4.00556366, -2.83563025],\n",
      "       [-2.59157782,  0.60554767,  2.39435231],\n",
      "       [-2.43936476,  2.58766899, -0.41251981],\n",
      "       [-1.57944138,  3.83705924,  2.62381983],\n",
      "       [ 2.89478004, -0.52016897, -2.27399626],\n",
      "       [ 2.74546053, -2.46112357,  0.47453866],\n",
      "       [ 2.2490306 ,  2.95672246,  0.14611927],\n",
      "       [ 2.09998041,  1.01579454,  2.89468766]])]\n"
     ]
    }
   ],
   "source": [
    "print(butane_geometries)\n",
    "\n",
    "#shows numpy array/coordinates for both molecule, the first four lines are the coordinates for C\n"
   ]
  },
  {
   "cell_type": "code",
   "execution_count": 48,
   "metadata": {},
   "outputs": [],
   "source": [
    "import numpy as np\n",
    "\n",
    "r1 = np.array([0.0, 0.0, 0.0])\n",
    "r2 = np.array([0.0, 0.1, 0.0])\n",
    "\n",
    "#(did the above yesterday)\n",
    "\n",
    "def calculate_distance(rA, rB):\n",
    "    \"\"\"Calculate the distance between points A and B\"\"\"\n",
    "    dist_vec = (rA - rB)\n",
    "    distance = np.linalg.norm(dist_vec)\n",
    "    return distance\n",
    "\n",
    "#function calc distance takes function of two numpy arrays with measurements being one atom by 3 coordinates x,y,z(1:3)\n"
   ]
  },
  {
   "cell_type": "code",
   "execution_count": 60,
   "metadata": {},
   "outputs": [
    {
     "name": "stdout",
     "output_type": "stream",
     "text": [
      "[ 0.60309252 -2.0666753  -2.95631542]\n"
     ]
    }
   ],
   "source": [
    "atom1 = butane_geometries[0][0]\n",
    "print(atom1)\n",
    "\n",
    "#first molecule - first element of numpy and first row\n",
    "#coordinates of first atom"
   ]
  },
  {
   "cell_type": "code",
   "execution_count": 58,
   "metadata": {},
   "outputs": [
    {
     "name": "stdout",
     "output_type": "stream",
     "text": [
      "[-0.54975128  2.07257294  2.96267825]\n"
     ]
    }
   ],
   "source": [
    "atom2 = butane_geometries[0][1]\n",
    "print(atom2)"
   ]
  },
  {
   "cell_type": "code",
   "execution_count": null,
   "metadata": {},
   "outputs": [],
   "source": []
  },
  {
   "cell_type": "code",
   "execution_count": 59,
   "metadata": {},
   "outputs": [
    {
     "name": "stdout",
     "output_type": "stream",
     "text": [
      "7.314158248564329\n"
     ]
    }
   ],
   "source": [
    "measured_distance = calculate_distance(atom1, atom2)\n",
    "print(measured_distance)\n",
    "\n",
    "#distance between both atoms (atom 1 and atom 2)"
   ]
  },
  {
   "cell_type": "code",
   "execution_count": 68,
   "metadata": {},
   "outputs": [
    {
     "data": {
      "text/plain": [
       "7.31415824856433"
      ]
     },
     "execution_count": 68,
     "metadata": {},
     "output_type": "execute_result"
    }
   ],
   "source": [
    "butane[0].measure([0, 1])\n",
    "\n",
    "#atom index 0 and atom index 1\n",
    "\n",
    "#butane for QC archive will give it atom indices and see our funciton calcualted the distance correctly meaning we should get the same value\n",
    "\n"
   ]
  },
  {
   "cell_type": "code",
   "execution_count": 67,
   "metadata": {},
   "outputs": [],
   "source": [
    "def calculate_distance(rA, rB):\n",
    "    \"\"\"Calculate the distance between points A and B\"\"\"\n",
    "    dist_vec = (rA - rB)\n",
    "    distance = np.linalg.norm(dist_vec)\n",
    "    return distance"
   ]
  },
  {
   "cell_type": "code",
   "execution_count": 77,
   "metadata": {},
   "outputs": [
    {
     "name": "stdout",
     "output_type": "stream",
     "text": [
      "[1.23080507 1.33319296 1.00805961]\n"
     ]
    }
   ],
   "source": [
    "# Use calculate distance function to measure distance between atoms 3 and 10 in second butane molecule\n",
    "\n",
    "atom3 = butane_geometries[1][2]\n",
    "print(atom1)\n",
    "\n",
    "#[1][3] means molecule 1 atom 3 (0, 1 ,2)"
   ]
  },
  {
   "cell_type": "code",
   "execution_count": 84,
   "metadata": {},
   "outputs": [
    {
     "name": "stdout",
     "output_type": "stream",
     "text": [
      "[-1.57944138  3.83705924  2.62381983]\n"
     ]
    }
   ],
   "source": [
    "atom10 = butane_geometries[1][9]\n",
    "print(atom2)\n",
    "\n",
    "#[1][10] means molecule 1 atom 10"
   ]
  },
  {
   "cell_type": "code",
   "execution_count": null,
   "metadata": {},
   "outputs": [],
   "source": []
  },
  {
   "cell_type": "code",
   "execution_count": 88,
   "metadata": {},
   "outputs": [
    {
     "name": "stdout",
     "output_type": "stream",
     "text": [
      "6.71634950813261\n",
      "6.71634950813261\n"
     ]
    }
   ],
   "source": [
    "measured_distance = calculate_distance(atom3, atom10)\n",
    "print(measured_distance)\n",
    "\n",
    "qcarchive_distance = butane[1].measure([2,9])\n",
    "print(qcarchive_distance)"
   ]
  },
  {
   "cell_type": "code",
   "execution_count": 81,
   "metadata": {},
   "outputs": [
    {
     "data": {
      "text/plain": [
       "6.71634950813261"
      ]
     },
     "execution_count": 81,
     "metadata": {},
     "output_type": "execute_result"
    }
   ],
   "source": [
    "#butane[1].measure([2, 9])\n",
    "\n",
    "#the above is the same thing but we are typing qcarchive"
   ]
  },
  {
   "cell_type": "code",
   "execution_count": null,
   "metadata": {},
   "outputs": [],
   "source": []
  },
  {
   "cell_type": "code",
   "execution_count": 49,
   "metadata": {},
   "outputs": [],
   "source": [
    "def build_bond_list(coordinates, max_bond=1.55, min_bond=0):\n",
    "    num_atoms = len(coordinates)\n",
    "    \n",
    "    bonds = {}\n",
    "    \n",
    "    for atom1 in range(num_atoms):\n",
    "        for atom2 in range(atom1, num_atoms):\n",
    "            distance = calculate_distance(coordinates[atom1], coordinates[atom2])\n",
    "            \n",
    "            if distance > min_bond and distance < max_bond:\n",
    "                bonds[(atom1, atom2)] = distance\n",
    "    \n",
    "    return bonds\n",
    "            \n",
    "#will loop over numpy array (loop atom over every other atom) and do criteria over distance criteria, if the atom is within a certain distance it will record the atom indices in the dictionary called it as a bond\n",
    "#will return a dictionary where the keys or atom indices are bonded and the value is the bond distance"
   ]
  },
  {
   "cell_type": "code",
   "execution_count": null,
   "metadata": {},
   "outputs": [],
   "source": []
  },
  {
   "cell_type": "code",
   "execution_count": 89,
   "metadata": {},
   "outputs": [],
   "source": [
    "bond_list = build_bond_list(butane_geometries[0], max_bond=2.93)"
   ]
  },
  {
   "cell_type": "code",
   "execution_count": 90,
   "metadata": {},
   "outputs": [
    {
     "name": "stdout",
     "output_type": "stream",
     "text": [
      "{(0, 2): 2.873020656801253, (0, 4): 2.068839651551603, (0, 5): 2.068484041315794, (0, 6): 2.068821759435787, (1, 3): 2.873059651780396, (1, 7): 2.068247482474781, (1, 8): 2.0685780442929644, (1, 9): 2.0687346633381822, (2, 3): 2.8862132661474598, (2, 10): 2.0715801221019885, (2, 11): 2.0716218178677623, (3, 12): 2.0713472807014583, (3, 13): 2.071754810836534}\n"
     ]
    }
   ],
   "source": [
    "print(bond_list)"
   ]
  },
  {
   "cell_type": "code",
   "execution_count": 52,
   "metadata": {},
   "outputs": [
    {
     "data": {
      "text/plain": [
       "[(0, 2, 1.0),\n",
       " (0, 4, 1.0),\n",
       " (0, 5, 1.0),\n",
       " (0, 6, 1.0),\n",
       " (1, 3, 1.0),\n",
       " (1, 7, 1.0),\n",
       " (1, 8, 1.0),\n",
       " (1, 9, 1.0),\n",
       " (2, 3, 1.0),\n",
       " (2, 10, 1.0),\n",
       " (2, 11, 1.0),\n",
       " (3, 12, 1.0),\n",
       " (3, 13, 1.0)]"
      ]
     },
     "execution_count": 52,
     "metadata": {},
     "output_type": "execute_result"
    }
   ],
   "source": [
    "butane[0].connectivity\n",
    "#can see we have all the bonds comparing the above and below coordinates and info"
   ]
  },
  {
   "cell_type": "code",
   "execution_count": 91,
   "metadata": {},
   "outputs": [
    {
     "name": "stdout",
     "output_type": "stream",
     "text": [
      "1.8897261254578281\n"
     ]
    },
    {
     "data": {
      "text/plain": [
       "2.9295"
      ]
     },
     "execution_count": 91,
     "metadata": {},
     "output_type": "execute_result"
    }
   ],
   "source": [
    "#do not have a bond list units of coordinates are in bohr distance for max bond assumes angstroms\n",
    "#figure out what max length should be, QC is another package associated with QC archive we can just get conversion ilke this\n",
    "\n",
    "import qcelemental\n",
    "\n",
    "angstrom_to_bohr = qcelemental.constants.conversion_factor(\"angstrom\", \"bohr\")\n",
    "print(angstrom_to_bohr)\n",
    "1.55*1.89"
   ]
  },
  {
   "cell_type": "code",
   "execution_count": null,
   "metadata": {},
   "outputs": [],
   "source": [
    "max_length = 1.55*angstrom_to_bohr"
   ]
  },
  {
   "cell_type": "code",
   "execution_count": 97,
   "metadata": {},
   "outputs": [],
   "source": [
    "#Use qcportal to access a geometry optimization calculation\n",
    "# use query_procedures\n",
    "# id = 2658710\n",
    "calculation = client.query_procedures(id=['2658710'])\n",
    "#not getting molecule getting actual calculation"
   ]
  },
  {
   "cell_type": "code",
   "execution_count": 98,
   "metadata": {},
   "outputs": [
    {
     "data": {
      "text/plain": [
       "[<OptimizationRecord(id='2658710' status='COMPLETE')>]"
      ]
     },
     "execution_count": 98,
     "metadata": {},
     "output_type": "execute_result"
    }
   ],
   "source": [
    "calculation\n",
    "#list only has one element because we have one ID number"
   ]
  },
  {
   "cell_type": "code",
   "execution_count": 102,
   "metadata": {},
   "outputs": [],
   "source": [
    "opt = calculation[0]\n",
    "#we are taking first element out of the list"
   ]
  },
  {
   "cell_type": "code",
   "execution_count": 103,
   "metadata": {},
   "outputs": [
    {
     "data": {
      "application/3dmoljs_load.v0": "<div id=\"3dmolviewer_156389464665424\"  style=\"position: relative; width: 400px; height: 400px\">\n        <p id=\"3dmolwarning_156389464665424\" style=\"background-color:#ffcccc;color:black\">You appear to be running in JupyterLab (or JavaScript failed to load for some other reason).  You need to install the 3dmol extension: <br>\n        <tt>jupyter labextension install jupyterlab_3dmol</tt></p>\n        </div>\n<script>\n\nvar loadScriptAsync = function(uri){\n  return new Promise((resolve, reject) => {\n    var tag = document.createElement('script');\n    tag.src = uri;\n    tag.async = true;\n    tag.onload = () => {\n      resolve();\n    };\n  var firstScriptTag = document.getElementsByTagName('script')[0];\n  firstScriptTag.parentNode.insertBefore(tag, firstScriptTag);\n});\n};\n\nif(typeof $3Dmolpromise === 'undefined') {\n$3Dmolpromise = null;\n  $3Dmolpromise = loadScriptAsync('https://3dmol.csb.pitt.edu/build/3Dmol.js');\n}\n\nvar viewer_156389464665424 = null;\nvar warn = document.getElementById(\"3dmolwarning_156389464665424\");\nif(warn) {\n    warn.parentNode.removeChild(warn);\n}\n$3Dmolpromise.then(function() {\nviewer_156389464665424 = $3Dmol.createViewer($(\"#3dmolviewer_156389464665424\"),{backgroundColor:\"white\"});\n\tviewer_156389464665424.addModel(\"72\\nC54H18\\nC                     1.219221001901    -4.550194001216    -2.133023000369\\nC                     1.219221001901    -4.550194001216    -0.712023002632\\nC                     1.219221001901     4.550194001216    -2.133023000369\\nC                     1.219221001901     4.550194001216    -0.712023002632\\nC                     2.355354000793    -4.079591998090    -4.266046000738\\nC                     2.355354000793    -4.079591998090    -2.845045997709\\nC                     2.355354000793    -4.079591998090     0.000000000000\\nC                     2.355354000793    -4.079591998090     1.420999997737\\nC                     2.355354000793     4.079591998090    -4.266046000738\\nC                     2.355354000793     4.079591998090    -2.845045997709\\nC                     2.355354000793     4.079591998090     0.000000000000\\nC                     2.355354000793     4.079591998090     1.420999997737\\nC                     3.330972999315    -3.330972999315    -6.399070001252\\nC                     3.330972999315    -3.330972999315    -4.978069998223\\nC                     3.330972999315    -3.330972999315    -2.133023000369\\nC                     3.330972999315    -3.330972999315    -0.712023002632\\nC                     3.330972999315    -3.330972999315     2.133023000369\\nC                     3.330972999315    -3.330972999315     3.554022998107\\nC                     3.330972999315     3.330972999315    -6.399070001252\\nC                     3.330972999315     3.330972999315    -4.978069998223\\nC                     3.330972999315     3.330972999315    -2.133023000369\\nC                     3.330972999315     3.330972999315    -0.712023002632\\nC                     3.330972999315     3.330972999315     2.133023000369\\nC                     3.330972999315     3.330972999315     3.554022998107\\nC                     4.079591998090    -2.355354000793    -7.111092998592\\nC                     4.079591998090    -2.355354000793    -4.266046000738\\nC                     4.079591998090    -2.355354000793    -2.845045997709\\nC                     4.079591998090    -2.355354000793     0.000000000000\\nC                     4.079591998090    -2.355354000793     1.420999997737\\nC                     4.079591998090    -2.355354000793     4.266046000738\\nC                     4.079591998090     2.355354000793    -7.111092998592\\nC                     4.079591998090     2.355354000793    -4.266046000738\\nC                     4.079591998090     2.355354000793    -2.845045997709\\nC                     4.079591998090     2.355354000793     0.000000000000\\nC                     4.079591998090     2.355354000793     1.420999997737\\nC                     4.079591998090     2.355354000793     4.266046000738\\nC                     4.550194001216    -1.219221001901    -6.399070001252\\nC                     4.550194001216    -1.219221001901    -4.978069998223\\nC                     4.550194001216    -1.219221001901    -2.133023000369\\nC                     4.550194001216    -1.219221001901    -0.712023002632\\nC                     4.550194001216    -1.219221001901     2.133023000369\\nC                     4.550194001216    -1.219221001901     3.554022998107\\nC                     4.550194001216     1.219221001901    -6.399070001252\\nC                     4.550194001216     1.219221001901    -4.978069998223\\nC                     4.550194001216     1.219221001901    -2.133023000369\\nC                     4.550194001216     1.219221001901    -0.712023002632\\nC                     4.550194001216     1.219221001901     2.133023000369\\nC                     4.550194001216     1.219221001901     3.554022998107\\nC                     4.710707001441     0.000000000000    -7.111092998592\\nC                     4.710707001441     0.000000000000    -4.266046000738\\nC                     4.710707001441     0.000000000000    -2.845045997709\\nC                     4.710707001441     0.000000000000     0.000000000000\\nC                     4.710707001441     0.000000000000     1.420999997737\\nC                     4.710707001441     0.000000000000     4.266046000738\\nH                     0.288683440765    -4.672701218998    -2.676455361369\\nH                     0.288683440765    -4.672701218998    -0.168590641632\\nH                     0.288683440765     4.672701218998    -2.676455361369\\nH                     0.288683440765     4.672701218998    -0.168590641632\\nH                     1.488231459635    -4.438766150819    -4.809478912082\\nH                     1.488231147420    -4.438766277821     1.964432337570\\nH                     1.488231459635     4.438766150819    -4.809478912082\\nH                     1.488231147420     4.438766277821     1.964432337570\\nH                     2.586357829400    -3.902336471225    -6.942502547464\\nH                     2.586357829400    -3.902336471225     4.097455549610\\nH                     2.586357829400     3.902336471225    -6.942502547464\\nH                     2.586357829400     3.902336471225     4.097455549610\\nH                     4.079591998090    -2.355354000793    -8.195632949853\\nH                     4.079591998090    -2.355354000793     5.350585951999\\nH                     4.079591998090     2.355354000793    -8.195632949853\\nH                     4.079591998090     2.355354000793     5.350585951999\\nH                     4.710707001441     0.000000000000    -8.195632949853\\nH                     4.710707001441     0.000000000000     5.350585951999\\n\",\"xyz\");\n\tviewer_156389464665424.setStyle({\"stick\": {\"radius\": 0.2}, \"sphere\": {\"scale\": 0.3}});\n\tviewer_156389464665424.zoomTo();\nviewer_156389464665424.render();\n});\n</script>",
      "text/html": [
       "<div id=\"3dmolviewer_156389464665424\"  style=\"position: relative; width: 400px; height: 400px\">\n",
       "        <p id=\"3dmolwarning_156389464665424\" style=\"background-color:#ffcccc;color:black\">You appear to be running in JupyterLab (or JavaScript failed to load for some other reason).  You need to install the 3dmol extension: <br>\n",
       "        <tt>jupyter labextension install jupyterlab_3dmol</tt></p>\n",
       "        </div>\n",
       "<script>\n",
       "\n",
       "var loadScriptAsync = function(uri){\n",
       "  return new Promise((resolve, reject) => {\n",
       "    var tag = document.createElement('script');\n",
       "    tag.src = uri;\n",
       "    tag.async = true;\n",
       "    tag.onload = () => {\n",
       "      resolve();\n",
       "    };\n",
       "  var firstScriptTag = document.getElementsByTagName('script')[0];\n",
       "  firstScriptTag.parentNode.insertBefore(tag, firstScriptTag);\n",
       "});\n",
       "};\n",
       "\n",
       "if(typeof $3Dmolpromise === 'undefined') {\n",
       "$3Dmolpromise = null;\n",
       "  $3Dmolpromise = loadScriptAsync('https://3dmol.csb.pitt.edu/build/3Dmol.js');\n",
       "}\n",
       "\n",
       "var viewer_156389464665424 = null;\n",
       "var warn = document.getElementById(\"3dmolwarning_156389464665424\");\n",
       "if(warn) {\n",
       "    warn.parentNode.removeChild(warn);\n",
       "}\n",
       "$3Dmolpromise.then(function() {\n",
       "viewer_156389464665424 = $3Dmol.createViewer($(\"#3dmolviewer_156389464665424\"),{backgroundColor:\"white\"});\n",
       "\tviewer_156389464665424.addModel(\"72\\nC54H18\\nC                     1.219221001901    -4.550194001216    -2.133023000369\\nC                     1.219221001901    -4.550194001216    -0.712023002632\\nC                     1.219221001901     4.550194001216    -2.133023000369\\nC                     1.219221001901     4.550194001216    -0.712023002632\\nC                     2.355354000793    -4.079591998090    -4.266046000738\\nC                     2.355354000793    -4.079591998090    -2.845045997709\\nC                     2.355354000793    -4.079591998090     0.000000000000\\nC                     2.355354000793    -4.079591998090     1.420999997737\\nC                     2.355354000793     4.079591998090    -4.266046000738\\nC                     2.355354000793     4.079591998090    -2.845045997709\\nC                     2.355354000793     4.079591998090     0.000000000000\\nC                     2.355354000793     4.079591998090     1.420999997737\\nC                     3.330972999315    -3.330972999315    -6.399070001252\\nC                     3.330972999315    -3.330972999315    -4.978069998223\\nC                     3.330972999315    -3.330972999315    -2.133023000369\\nC                     3.330972999315    -3.330972999315    -0.712023002632\\nC                     3.330972999315    -3.330972999315     2.133023000369\\nC                     3.330972999315    -3.330972999315     3.554022998107\\nC                     3.330972999315     3.330972999315    -6.399070001252\\nC                     3.330972999315     3.330972999315    -4.978069998223\\nC                     3.330972999315     3.330972999315    -2.133023000369\\nC                     3.330972999315     3.330972999315    -0.712023002632\\nC                     3.330972999315     3.330972999315     2.133023000369\\nC                     3.330972999315     3.330972999315     3.554022998107\\nC                     4.079591998090    -2.355354000793    -7.111092998592\\nC                     4.079591998090    -2.355354000793    -4.266046000738\\nC                     4.079591998090    -2.355354000793    -2.845045997709\\nC                     4.079591998090    -2.355354000793     0.000000000000\\nC                     4.079591998090    -2.355354000793     1.420999997737\\nC                     4.079591998090    -2.355354000793     4.266046000738\\nC                     4.079591998090     2.355354000793    -7.111092998592\\nC                     4.079591998090     2.355354000793    -4.266046000738\\nC                     4.079591998090     2.355354000793    -2.845045997709\\nC                     4.079591998090     2.355354000793     0.000000000000\\nC                     4.079591998090     2.355354000793     1.420999997737\\nC                     4.079591998090     2.355354000793     4.266046000738\\nC                     4.550194001216    -1.219221001901    -6.399070001252\\nC                     4.550194001216    -1.219221001901    -4.978069998223\\nC                     4.550194001216    -1.219221001901    -2.133023000369\\nC                     4.550194001216    -1.219221001901    -0.712023002632\\nC                     4.550194001216    -1.219221001901     2.133023000369\\nC                     4.550194001216    -1.219221001901     3.554022998107\\nC                     4.550194001216     1.219221001901    -6.399070001252\\nC                     4.550194001216     1.219221001901    -4.978069998223\\nC                     4.550194001216     1.219221001901    -2.133023000369\\nC                     4.550194001216     1.219221001901    -0.712023002632\\nC                     4.550194001216     1.219221001901     2.133023000369\\nC                     4.550194001216     1.219221001901     3.554022998107\\nC                     4.710707001441     0.000000000000    -7.111092998592\\nC                     4.710707001441     0.000000000000    -4.266046000738\\nC                     4.710707001441     0.000000000000    -2.845045997709\\nC                     4.710707001441     0.000000000000     0.000000000000\\nC                     4.710707001441     0.000000000000     1.420999997737\\nC                     4.710707001441     0.000000000000     4.266046000738\\nH                     0.288683440765    -4.672701218998    -2.676455361369\\nH                     0.288683440765    -4.672701218998    -0.168590641632\\nH                     0.288683440765     4.672701218998    -2.676455361369\\nH                     0.288683440765     4.672701218998    -0.168590641632\\nH                     1.488231459635    -4.438766150819    -4.809478912082\\nH                     1.488231147420    -4.438766277821     1.964432337570\\nH                     1.488231459635     4.438766150819    -4.809478912082\\nH                     1.488231147420     4.438766277821     1.964432337570\\nH                     2.586357829400    -3.902336471225    -6.942502547464\\nH                     2.586357829400    -3.902336471225     4.097455549610\\nH                     2.586357829400     3.902336471225    -6.942502547464\\nH                     2.586357829400     3.902336471225     4.097455549610\\nH                     4.079591998090    -2.355354000793    -8.195632949853\\nH                     4.079591998090    -2.355354000793     5.350585951999\\nH                     4.079591998090     2.355354000793    -8.195632949853\\nH                     4.079591998090     2.355354000793     5.350585951999\\nH                     4.710707001441     0.000000000000    -8.195632949853\\nH                     4.710707001441     0.000000000000     5.350585951999\\n\",\"xyz\");\n",
       "\tviewer_156389464665424.setStyle({\"stick\": {\"radius\": 0.2}, \"sphere\": {\"scale\": 0.3}});\n",
       "\tviewer_156389464665424.zoomTo();\n",
       "viewer_156389464665424.render();\n",
       "});\n",
       "</script>"
      ]
     },
     "metadata": {},
     "output_type": "display_data"
    },
    {
     "data": {
      "text/plain": [
       "<py3Dmol.view at 0x11e77c8d0>"
      ]
     },
     "execution_count": 103,
     "metadata": {},
     "output_type": "execute_result"
    }
   ],
   "source": [
    "initial = opt.get_initial_molecule()\n",
    "initial.show()"
   ]
  },
  {
   "cell_type": "code",
   "execution_count": 112,
   "metadata": {},
   "outputs": [
    {
     "data": {
      "application/3dmoljs_load.v0": "<div id=\"3dmolviewer_15638952565919669\"  style=\"position: relative; width: 400px; height: 400px\">\n        <p id=\"3dmolwarning_15638952565919669\" style=\"background-color:#ffcccc;color:black\">You appear to be running in JupyterLab (or JavaScript failed to load for some other reason).  You need to install the 3dmol extension: <br>\n        <tt>jupyter labextension install jupyterlab_3dmol</tt></p>\n        </div>\n<script>\n\nvar loadScriptAsync = function(uri){\n  return new Promise((resolve, reject) => {\n    var tag = document.createElement('script');\n    tag.src = uri;\n    tag.async = true;\n    tag.onload = () => {\n      resolve();\n    };\n  var firstScriptTag = document.getElementsByTagName('script')[0];\n  firstScriptTag.parentNode.insertBefore(tag, firstScriptTag);\n});\n};\n\nif(typeof $3Dmolpromise === 'undefined') {\n$3Dmolpromise = null;\n  $3Dmolpromise = loadScriptAsync('https://3dmol.csb.pitt.edu/build/3Dmol.js');\n}\n\nvar viewer_15638952565919669 = null;\nvar warn = document.getElementById(\"3dmolwarning_15638952565919669\");\nif(warn) {\n    warn.parentNode.removeChild(warn);\n}\n$3Dmolpromise.then(function() {\nviewer_15638952565919669 = $3Dmol.createViewer($(\"#3dmolviewer_15638952565919669\"),{backgroundColor:\"white\"});\n\tviewer_15638952565919669.addModel(\"72\\nC54H18\\nC                     2.903604033453    -6.112482329788    -2.100940515408\\nC                     2.903603382565    -6.112487304054    -0.744107403214\\nC                     2.903596069336     6.112511984879    -2.100938033567\\nC                     2.903596667306     6.112507587416    -0.744102465991\\nC                     3.136053574199    -4.883593784133    -4.251905914701\\nC                     3.094346715762    -4.901845079670    -2.857595519928\\nC                     3.094346244794    -4.901850524904     0.012547606598\\nC                     3.136053314903    -4.883599001821     1.406858858638\\nC                     3.136048917440     4.883603912585    -4.251916942755\\nC                     3.094339847042     4.901880291122    -2.857602991911\\nC                     3.094340503222     4.901874110332     0.012560248641\\nC                     3.136049510118     4.883598917152     1.406873167590\\nC                     3.394645977308    -3.657952650851    -6.402321604708\\nC                     3.305058894969    -3.696675976424    -4.965192756557\\nC                     3.244196885152    -3.681150049357    -2.134435247342\\nC                     3.244196472393    -3.681155536925    -0.710614264104\\nC                     3.305058720341    -3.696684210421     2.120150600675\\nC                     3.394647019788    -3.657948168720     3.557280274342\\nC                     3.394645098874     3.657915402067    -6.402351513804\\nC                     3.305054756803     3.696694725172    -4.965221093997\\nC                     3.244191889719     3.681190118655    -2.134434236613\\nC                     3.244192498273     3.681183837322    -0.710607638805\\nC                     3.305055450026     3.696686337713     2.120171116875\\nC                     3.394644987747     3.657920709714     3.557301145091\\nC                     3.524256092076    -2.487901551798    -7.077124981145\\nC                     3.388666317162    -2.459158958219    -4.260200068965\\nC                     3.368221169328    -2.456039649066    -2.840840076072\\nC                     3.368220878281    -2.456048248196    -0.004206440231\\nC                     3.388666089616    -2.459169414761     1.415155076692\\nC                     3.524256965218    -2.487895963687     4.232082788220\\nC                     3.524255107806     2.487850898956    -7.077141517933\\nC                     3.388663512523     2.459188676811    -4.260215658525\\nC                     3.368217973098     2.456082904011    -2.840847860268\\nC                     3.368218475816     2.456073357654    -0.004197581805\\nC                     3.388664046992     2.459177987431     1.415168443709\\nC                     3.524254938470     2.487857090329     4.232090074990\\nC                     3.542570200948    -1.219005732612    -6.395645753732\\nC                     3.475755222683    -1.228237890524    -4.970401987603\\nC                     3.430567082005    -1.228942601107    -2.131991554609\\nC                     3.430566896793    -1.228951142027    -0.713057237156\\nC                     3.475755317935    -1.228248775699     2.125359625341\\nC                     3.542570883587    -1.219000657803     3.550604449824\\nC                     3.542570624290     1.218954391839    -6.395668630062\\nC                     3.475754026742     1.228263481534    -4.970422429718\\nC                     3.430565468014     1.228989830173    -2.131990358668\\nC                     3.430565759062     1.228980892370    -0.713052998446\\nC                     3.475754375999     1.228252421730     2.125372817729\\nC                     3.542570597831     1.218959440190     3.550617933260\\nC                     3.589719842793    -0.000035147950    -7.072735233928\\nC                     3.474337885025     0.000020886625    -4.259012955145\\nC                     3.454492755355     0.000024950705    -2.840866058673\\nC                     3.454492877066     0.000012366871    -0.004179970787\\nC                     3.474338075529     0.000007260311     1.413967179690\\nC                     3.589720234384    -0.000026088436     4.227689553725\\nH                     2.754263255338    -7.040868584476    -2.642719261126\\nH                     2.754262371612    -7.040874913436    -0.202331869602\\nH                     2.754253121594     7.040900557363    -2.642711106505\\nH                     2.754253973569     7.040894381865    -0.202325625311\\nH                     3.023176751931    -5.816498889402    -4.796678967331\\nH                     3.023176122210    -5.816504429888     1.951630186150\\nH                     3.023170380637     5.816506133838    -4.796692419016\\nH                     3.023171222029     5.816500365807     1.951650501263\\nH                     3.354201333521    -4.595760440099    -6.946996256836\\nH                     3.354203053347    -4.595753105703     4.101959165179\\nH                     3.354201846823     4.595710247640    -6.947048449584\\nH                     3.354201481691     4.595718031837     4.101994244336\\nH                     3.628610462449    -2.494167650277    -8.157316857894\\nH                     3.628611483761    -2.494160733931     5.312275024810\\nH                     3.628609255925     2.494108869272    -8.157333071884\\nH                     3.628609203008     2.494116283045     5.312281745360\\nH                     3.698094795777    -0.000047170857    -8.153506247508\\nH                     3.698095055074    -0.000032935990     5.308459895251\\n\",\"xyz\");\n\tviewer_15638952565919669.setStyle({\"stick\": {\"radius\": 0.2}, \"sphere\": {\"scale\": 0.3}});\n\tviewer_15638952565919669.zoomTo();\nviewer_15638952565919669.render();\n});\n</script>",
      "text/html": [
       "<div id=\"3dmolviewer_15638952565919669\"  style=\"position: relative; width: 400px; height: 400px\">\n",
       "        <p id=\"3dmolwarning_15638952565919669\" style=\"background-color:#ffcccc;color:black\">You appear to be running in JupyterLab (or JavaScript failed to load for some other reason).  You need to install the 3dmol extension: <br>\n",
       "        <tt>jupyter labextension install jupyterlab_3dmol</tt></p>\n",
       "        </div>\n",
       "<script>\n",
       "\n",
       "var loadScriptAsync = function(uri){\n",
       "  return new Promise((resolve, reject) => {\n",
       "    var tag = document.createElement('script');\n",
       "    tag.src = uri;\n",
       "    tag.async = true;\n",
       "    tag.onload = () => {\n",
       "      resolve();\n",
       "    };\n",
       "  var firstScriptTag = document.getElementsByTagName('script')[0];\n",
       "  firstScriptTag.parentNode.insertBefore(tag, firstScriptTag);\n",
       "});\n",
       "};\n",
       "\n",
       "if(typeof $3Dmolpromise === 'undefined') {\n",
       "$3Dmolpromise = null;\n",
       "  $3Dmolpromise = loadScriptAsync('https://3dmol.csb.pitt.edu/build/3Dmol.js');\n",
       "}\n",
       "\n",
       "var viewer_15638952565919669 = null;\n",
       "var warn = document.getElementById(\"3dmolwarning_15638952565919669\");\n",
       "if(warn) {\n",
       "    warn.parentNode.removeChild(warn);\n",
       "}\n",
       "$3Dmolpromise.then(function() {\n",
       "viewer_15638952565919669 = $3Dmol.createViewer($(\"#3dmolviewer_15638952565919669\"),{backgroundColor:\"white\"});\n",
       "\tviewer_15638952565919669.addModel(\"72\\nC54H18\\nC                     2.903604033453    -6.112482329788    -2.100940515408\\nC                     2.903603382565    -6.112487304054    -0.744107403214\\nC                     2.903596069336     6.112511984879    -2.100938033567\\nC                     2.903596667306     6.112507587416    -0.744102465991\\nC                     3.136053574199    -4.883593784133    -4.251905914701\\nC                     3.094346715762    -4.901845079670    -2.857595519928\\nC                     3.094346244794    -4.901850524904     0.012547606598\\nC                     3.136053314903    -4.883599001821     1.406858858638\\nC                     3.136048917440     4.883603912585    -4.251916942755\\nC                     3.094339847042     4.901880291122    -2.857602991911\\nC                     3.094340503222     4.901874110332     0.012560248641\\nC                     3.136049510118     4.883598917152     1.406873167590\\nC                     3.394645977308    -3.657952650851    -6.402321604708\\nC                     3.305058894969    -3.696675976424    -4.965192756557\\nC                     3.244196885152    -3.681150049357    -2.134435247342\\nC                     3.244196472393    -3.681155536925    -0.710614264104\\nC                     3.305058720341    -3.696684210421     2.120150600675\\nC                     3.394647019788    -3.657948168720     3.557280274342\\nC                     3.394645098874     3.657915402067    -6.402351513804\\nC                     3.305054756803     3.696694725172    -4.965221093997\\nC                     3.244191889719     3.681190118655    -2.134434236613\\nC                     3.244192498273     3.681183837322    -0.710607638805\\nC                     3.305055450026     3.696686337713     2.120171116875\\nC                     3.394644987747     3.657920709714     3.557301145091\\nC                     3.524256092076    -2.487901551798    -7.077124981145\\nC                     3.388666317162    -2.459158958219    -4.260200068965\\nC                     3.368221169328    -2.456039649066    -2.840840076072\\nC                     3.368220878281    -2.456048248196    -0.004206440231\\nC                     3.388666089616    -2.459169414761     1.415155076692\\nC                     3.524256965218    -2.487895963687     4.232082788220\\nC                     3.524255107806     2.487850898956    -7.077141517933\\nC                     3.388663512523     2.459188676811    -4.260215658525\\nC                     3.368217973098     2.456082904011    -2.840847860268\\nC                     3.368218475816     2.456073357654    -0.004197581805\\nC                     3.388664046992     2.459177987431     1.415168443709\\nC                     3.524254938470     2.487857090329     4.232090074990\\nC                     3.542570200948    -1.219005732612    -6.395645753732\\nC                     3.475755222683    -1.228237890524    -4.970401987603\\nC                     3.430567082005    -1.228942601107    -2.131991554609\\nC                     3.430566896793    -1.228951142027    -0.713057237156\\nC                     3.475755317935    -1.228248775699     2.125359625341\\nC                     3.542570883587    -1.219000657803     3.550604449824\\nC                     3.542570624290     1.218954391839    -6.395668630062\\nC                     3.475754026742     1.228263481534    -4.970422429718\\nC                     3.430565468014     1.228989830173    -2.131990358668\\nC                     3.430565759062     1.228980892370    -0.713052998446\\nC                     3.475754375999     1.228252421730     2.125372817729\\nC                     3.542570597831     1.218959440190     3.550617933260\\nC                     3.589719842793    -0.000035147950    -7.072735233928\\nC                     3.474337885025     0.000020886625    -4.259012955145\\nC                     3.454492755355     0.000024950705    -2.840866058673\\nC                     3.454492877066     0.000012366871    -0.004179970787\\nC                     3.474338075529     0.000007260311     1.413967179690\\nC                     3.589720234384    -0.000026088436     4.227689553725\\nH                     2.754263255338    -7.040868584476    -2.642719261126\\nH                     2.754262371612    -7.040874913436    -0.202331869602\\nH                     2.754253121594     7.040900557363    -2.642711106505\\nH                     2.754253973569     7.040894381865    -0.202325625311\\nH                     3.023176751931    -5.816498889402    -4.796678967331\\nH                     3.023176122210    -5.816504429888     1.951630186150\\nH                     3.023170380637     5.816506133838    -4.796692419016\\nH                     3.023171222029     5.816500365807     1.951650501263\\nH                     3.354201333521    -4.595760440099    -6.946996256836\\nH                     3.354203053347    -4.595753105703     4.101959165179\\nH                     3.354201846823     4.595710247640    -6.947048449584\\nH                     3.354201481691     4.595718031837     4.101994244336\\nH                     3.628610462449    -2.494167650277    -8.157316857894\\nH                     3.628611483761    -2.494160733931     5.312275024810\\nH                     3.628609255925     2.494108869272    -8.157333071884\\nH                     3.628609203008     2.494116283045     5.312281745360\\nH                     3.698094795777    -0.000047170857    -8.153506247508\\nH                     3.698095055074    -0.000032935990     5.308459895251\\n\",\"xyz\");\n",
       "\tviewer_15638952565919669.setStyle({\"stick\": {\"radius\": 0.2}, \"sphere\": {\"scale\": 0.3}});\n",
       "\tviewer_15638952565919669.zoomTo();\n",
       "viewer_15638952565919669.render();\n",
       "});\n",
       "</script>"
      ]
     },
     "metadata": {},
     "output_type": "display_data"
    },
    {
     "data": {
      "text/plain": [
       "<py3Dmol.view at 0x11e793198>"
      ]
     },
     "execution_count": 112,
     "metadata": {},
     "output_type": "execute_result"
    }
   ],
   "source": [
    "final = opt.get_final_molecule()\n",
    "final.show()"
   ]
  },
  {
   "cell_type": "code",
   "execution_count": 113,
   "metadata": {},
   "outputs": [],
   "source": [
    "#want to write funcitons to analyze geomtries of a molecule and make sure it is right\n",
    "#use attribuet called connectivity to see what the bonds are\n",
    "\n",
    "initial.connectivity\n",
    "#do not have any bonds stored it is a QM calcualtion - does not know anything about bonds\n",
    "#we can use our function to build a list of bonds\n"
   ]
  },
  {
   "cell_type": "code",
   "execution_count": 114,
   "metadata": {},
   "outputs": [],
   "source": [
    "#max bond length that we want to use is 2.93\n",
    "\n",
    "#coordinates for first molecule as a numpy array\n",
    "\n",
    "initial_coordinates = initial.geometry.copy()\n",
    "final_coordinates = final.geometry.copy()\n",
    "\n",
    "inital_bonds = build_bond_list(initial_coordinates, max_bond=2.93)\n",
    "final_bonds = build_bond_list(final_coordinates, max_bond=2.93)\n"
   ]
  },
  {
   "cell_type": "code",
   "execution_count": 117,
   "metadata": {},
   "outputs": [
    {
     "data": {
      "text/plain": [
       "{(0, 1): 2.6853008199999997,\n",
       " (0, 5): 2.685300947458371,\n",
       " (0, 54): 2.0494834766860643,\n",
       " (1, 6): 2.6853009524690883,\n",
       " (1, 55): 2.0494834766860643,\n",
       " (2, 3): 2.6853008199999997,\n",
       " (2, 9): 2.685300947458371,\n",
       " (2, 56): 2.0494834766860643,\n",
       " (3, 10): 2.6853009524690883,\n",
       " (3, 57): 2.0494834766860643,\n",
       " (4, 5): 2.685300829999999,\n",
       " (4, 13): 2.685300829993184,\n",
       " (4, 58): 2.0494834770587396,\n",
       " (5, 14): 2.6852998829666923,\n",
       " (6, 7): 2.68530082,\n",
       " (6, 15): 2.6852998879774117,\n",
       " (7, 16): 2.6852998879774117,\n",
       " (7, 59): 2.0494834871062877,\n",
       " (8, 9): 2.685300829999999,\n",
       " (8, 19): 2.685300829993184,\n",
       " (8, 60): 2.0494834770587396,\n",
       " (9, 20): 2.6852998829666923,\n",
       " (10, 11): 2.68530082,\n",
       " (10, 21): 2.6852998879774117,\n",
       " (11, 22): 2.6852998879774117,\n",
       " (11, 61): 2.0494834871062877,\n",
       " (12, 13): 2.685300829999999,\n",
       " (12, 24): 2.6852998829666923,\n",
       " (12, 62): 2.049483475383679,\n",
       " (13, 25): 2.685300829993184,\n",
       " (14, 15): 2.6853008199999997,\n",
       " (14, 26): 2.6852998829666923,\n",
       " (15, 27): 2.6852998879774117,\n",
       " (16, 17): 2.68530082,\n",
       " (16, 28): 2.6852998879774117,\n",
       " (17, 29): 2.6852998879774117,\n",
       " (17, 63): 2.049483480394398,\n",
       " (18, 19): 2.685300829999999,\n",
       " (18, 30): 2.6852998829666923,\n",
       " (18, 64): 2.049483475383679,\n",
       " (19, 31): 2.685300829993184,\n",
       " (20, 21): 2.6853008199999997,\n",
       " (20, 32): 2.6852998829666923,\n",
       " (21, 33): 2.6852998879774117,\n",
       " (22, 23): 2.68530082,\n",
       " (22, 34): 2.6852998879774117,\n",
       " (23, 35): 2.6852998879774117,\n",
       " (23, 65): 2.049483480394398,\n",
       " (24, 36): 2.685300947458371,\n",
       " (24, 66): 2.0494834799999992,\n",
       " (25, 26): 2.685300829999999,\n",
       " (25, 37): 2.6853018944844873,\n",
       " (26, 38): 2.685300947458371,\n",
       " (27, 28): 2.68530082,\n",
       " (27, 39): 2.6853009524690883,\n",
       " (28, 40): 2.6853009524690883,\n",
       " (29, 41): 2.6853009524690883,\n",
       " (29, 67): 2.049483480000001,\n",
       " (30, 42): 2.685300947458371,\n",
       " (30, 68): 2.0494834799999992,\n",
       " (31, 32): 2.685300829999999,\n",
       " (31, 43): 2.6853018944844873,\n",
       " (32, 44): 2.685300947458371,\n",
       " (33, 34): 2.68530082,\n",
       " (33, 45): 2.6853009524690883,\n",
       " (34, 46): 2.6853009524690883,\n",
       " (35, 47): 2.6853009524690883,\n",
       " (35, 69): 2.049483480000001,\n",
       " (36, 37): 2.685300829999999,\n",
       " (36, 48): 2.6853008398744698,\n",
       " (37, 49): 2.685301786900624,\n",
       " (38, 39): 2.6853008199999997,\n",
       " (38, 50): 2.6853008398744698,\n",
       " (39, 51): 2.6853008448851874,\n",
       " (40, 41): 2.68530082,\n",
       " (40, 52): 2.6853008448851874,\n",
       " (41, 53): 2.6853008448851874,\n",
       " (42, 43): 2.685300829999999,\n",
       " (42, 48): 2.6853008398744698,\n",
       " (43, 49): 2.685301786900624,\n",
       " (44, 45): 2.6853008199999997,\n",
       " (44, 50): 2.6853008398744698,\n",
       " (45, 51): 2.6853008448851874,\n",
       " (46, 47): 2.68530082,\n",
       " (46, 52): 2.6853008448851874,\n",
       " (47, 53): 2.6853008448851874,\n",
       " (48, 70): 2.0494834799999992,\n",
       " (49, 50): 2.685300829999999,\n",
       " (51, 52): 2.68530082,\n",
       " (53, 71): 2.049483480000001}"
      ]
     },
     "execution_count": 117,
     "metadata": {},
     "output_type": "execute_result"
    }
   ],
   "source": [
    "inital_bonds"
   ]
  },
  {
   "cell_type": "code",
   "execution_count": 118,
   "metadata": {},
   "outputs": [
    {
     "data": {
      "text/plain": [
       "{(0, 1): 2.5640429800175255,\n",
       " (0, 5): 2.721830285918179,\n",
       " (0, 54): 2.050790758811911,\n",
       " (1, 6): 2.7218295881283754,\n",
       " (1, 55): 2.0507899790642936,\n",
       " (2, 3): 2.5640476200137154,\n",
       " (2, 9): 2.7218316161338745,\n",
       " (2, 56): 2.0507897182972523,\n",
       " (3, 10): 2.7218322358238627,\n",
       " (3, 57): 2.0507903323327072,\n",
       " (4, 5): 2.6362688969926538,\n",
       " (4, 13): 2.6362287673968563,\n",
       " (4, 58): 2.0526208230733363,\n",
       " (5, 14): 2.6960983036854445,\n",
       " (6, 7): 2.636270533714002,\n",
       " (6, 15): 2.6960997775436293,\n",
       " (7, 16): 2.6362286718268693,\n",
       " (7, 59): 2.052619784709002,\n",
       " (8, 9): 2.6362763589350253,\n",
       " (8, 19): 2.6362317513408633,\n",
       " (8, 60): 2.052618775995513,\n",
       " (9, 20): 2.696098946310403,\n",
       " (10, 11): 2.6362743770415618,\n",
       " (10, 21): 2.69609826814251,\n",
       " (11, 22): 2.636231235454784,\n",
       " (11, 61): 2.052619233623958,\n",
       " (12, 13): 2.72203531192571,\n",
       " (12, 24): 2.564169618543982,\n",
       " (12, 62): 2.0508445474196115,\n",
       " (13, 25): 2.696059263395006,\n",
       " (14, 15): 2.690631710020097,\n",
       " (14, 26): 2.682669276790726,\n",
       " (15, 27): 2.6826670389495995,\n",
       " (16, 17): 2.722037657492619,\n",
       " (16, 28): 2.6960582630681764,\n",
       " (17, 29): 2.5641705795606935,\n",
       " (17, 63): 2.050843862160726,\n",
       " (18, 19): 2.722041505034991,\n",
       " (18, 30): 2.5641788745730825,\n",
       " (18, 64): 2.050844447656416,\n",
       " (19, 31): 2.6960533339463475,\n",
       " (20, 21): 2.690642320026428,\n",
       " (20, 32): 2.6826726488841537,\n",
       " (21, 33): 2.682674602167853,\n",
       " (22, 23): 2.7220399755844102,\n",
       " (22, 34): 2.6960545100618356,\n",
       " (23, 35): 2.564176414497956,\n",
       " (23, 65): 2.0508448708356606,\n",
       " (24, 36): 2.7220230301094754,\n",
       " (24, 66): 2.0508044054115038,\n",
       " (25, 26): 2.6824863860456256,\n",
       " (25, 37): 2.6905465841620844,\n",
       " (26, 38): 2.680561957509339,\n",
       " (27, 28): 2.682489275183641,\n",
       " (27, 39): 2.6805642102547806,\n",
       " (28, 40): 2.6905484003099565,\n",
       " (29, 41): 2.722021376226541,\n",
       " (29, 67): 2.050805094682261,\n",
       " (30, 42): 2.7220185413147258,\n",
       " (30, 68): 2.0508036692319536,\n",
       " (31, 32): 2.6825010890496643,\n",
       " (31, 43): 2.6905580877221253,\n",
       " (32, 44): 2.6805640725487785,\n",
       " (33, 34): 2.6824977355443593,\n",
       " (33, 45): 2.680561091221982,\n",
       " (34, 46): 2.6905564118575427,\n",
       " (35, 47): 2.72201978044889,\n",
       " (35, 69): 2.0508039226853367,\n",
       " (36, 37): 2.696334759656457,\n",
       " (36, 48): 2.636532006559348,\n",
       " (37, 49): 2.682277014835587,\n",
       " (38, 39): 2.681397250048598,\n",
       " (38, 50): 2.6814386328151083,\n",
       " (39, 51): 2.6814346333317425,\n",
       " (40, 41): 2.696337004713522,\n",
       " (40, 52): 2.682275764899848,\n",
       " (41, 53): 2.6365345534604177,\n",
       " (42, 43): 2.696340442384856,\n",
       " (42, 48): 2.63654229620249,\n",
       " (43, 49): 2.682269911997115,\n",
       " (44, 45): 2.6814030000532503,\n",
       " (44, 50): 2.6814354394476605,\n",
       " (45, 51): 2.681438878673595,\n",
       " (46, 47): 2.6963381630025953,\n",
       " (46, 52): 2.6822704754077114,\n",
       " (47, 53): 2.636540300741533,\n",
       " (48, 70): 2.0526037064385148,\n",
       " (49, 50): 2.680171622154041,\n",
       " (51, 52): 2.6801721039324247,\n",
       " (53, 71): 2.0526024177470563}"
      ]
     },
     "execution_count": 118,
     "metadata": {},
     "output_type": "execute_result"
    }
   ],
   "source": [
    "final_bonds"
   ]
  },
  {
   "cell_type": "code",
   "execution_count": 120,
   "metadata": {},
   "outputs": [],
   "source": [
    "#Compare the two dictionaries initial_bonds and final_bonds to find the change in bond length\n",
    "#geometry analysis functions\n",
    "\n",
    "\n",
    "import os\n",
    "import numpy as np\n",
    "\n",
    "def calculate_distance(rA, rB):\n",
    "    \"\"\"Calculate the distance between points A and B. Assumes rA and rB are numpy arrays.\"\"\"\n",
    "    dist_vec = (rA-rB)\n",
    "    distance = np.linalg.norm(dist_vec)\n",
    "    return distance\n",
    "\n",
    "def calculate_distance_list(rA, rB):\n",
    "    \"\"\"Calculate the distance between points A and B. Assums rA and rB are lists.\"\"\"\n",
    "    squared_sum = 0\n",
    "    for dim in range(len(rA)):\n",
    "        squared_sum += (rA[dim] - rB[dim])**2\n",
    "    \n",
    "    distance = np.sqrt(squared_sum)\n",
    "    return distance\n",
    "\n",
    "\n",
    "def build_bond_list(coordinates, max_bond=1.5, min_bond=0):\n",
    "    num_atoms = len(coordinates)\n",
    "    \n",
    "    bonds = {}\n",
    "    \n",
    "    for atom1 in range(num_atoms):\n",
    "        for atom2 in range(atom1, num_atoms):\n",
    "            distance = calculate_distance(coordinates[atom1], coordinates[atom2])\n",
    "            \n",
    "            if distance > min_bond and distance < max_bond:\n",
    "                bonds[(atom1, atom2)] = distance \n",
    "    \n",
    "    return bonds\n",
    "\n"
   ]
  },
  {
   "cell_type": "code",
   "execution_count": null,
   "metadata": {},
   "outputs": [],
   "source": []
  }
 ],
 "metadata": {
  "kernelspec": {
   "display_name": "Python 3",
   "language": "python",
   "name": "python3"
  },
  "language_info": {
   "codemirror_mode": {
    "name": "ipython",
    "version": 3
   },
   "file_extension": ".py",
   "mimetype": "text/x-python",
   "name": "python",
   "nbconvert_exporter": "python",
   "pygments_lexer": "ipython3",
   "version": "3.7.3"
  }
 },
 "nbformat": 4,
 "nbformat_minor": 2
}
